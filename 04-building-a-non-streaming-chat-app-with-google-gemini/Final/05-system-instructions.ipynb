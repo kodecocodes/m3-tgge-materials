{
 "cells": [
  {
   "cell_type": "markdown",
   "metadata": {},
   "source": [
    "## Creating A Non-Streaming Chat App"
   ]
  },
  {
   "cell_type": "markdown",
   "metadata": {},
   "source": [
    "### Install the Dependencies in the Virtual Environment"
   ]
  },
  {
   "cell_type": "markdown",
   "metadata": {},
   "source": [
    "You must add your API Key to **.env** "
   ]
  },
  {
   "cell_type": "markdown",
   "metadata": {},
   "source": [
    "Install the google gemini api and the dotenv library"
   ]
  },
  {
   "cell_type": "code",
   "execution_count": 1,
   "metadata": {},
   "outputs": [
    {
     "name": "stdout",
     "output_type": "stream",
     "text": [
      "Note: you may need to restart the kernel to use updated packages.\n",
      "Requirement already satisfied: python-dotenv in /Users/pinalnaik/VisualStudioCode/Lesson4/m3-tgge-materials/.venv/lib/python3.12/site-packages (1.0.1)\n",
      "Note: you may need to restart the kernel to use updated packages.\n"
     ]
    }
   ],
   "source": [
    "%pip install -U -q google-generativeai\n",
    "%pip install python-dotenv"
   ]
  },
  {
   "cell_type": "markdown",
   "metadata": {},
   "source": [
    "Import the necessary libraries and load the API Key"
   ]
  },
  {
   "cell_type": "code",
   "execution_count": 2,
   "metadata": {},
   "outputs": [
    {
     "name": "stderr",
     "output_type": "stream",
     "text": [
      "/Users/pinalnaik/VisualStudioCode/Lesson4/m3-tgge-materials/.venv/lib/python3.12/site-packages/tqdm/auto.py:21: TqdmWarning: IProgress not found. Please update jupyter and ipywidgets. See https://ipywidgets.readthedocs.io/en/stable/user_install.html\n",
      "  from .autonotebook import tqdm as notebook_tqdm\n"
     ]
    }
   ],
   "source": [
    "# Importing the libraries.\n",
    "import google.generativeai as genai\n",
    "import os\n",
    "import time\n",
    "from dotenv import load_dotenv\n",
    "\n",
    "# Loading the API key and authenticating to Gemini.\n",
    "load_dotenv()\n",
    "os.environ.get('GOOGLE_API_KEY')\n",
    "\n",
    "# Configuring the API key.\n",
    "genai.configure(api_key = os.environ.get('GOOGLE_API_KEY'))"
   ]
  },
  {
   "cell_type": "code",
   "execution_count": 3,
   "metadata": {},
   "outputs": [],
   "source": [
    "instructions = '''\n",
    "    You are my magical fairy personal assistant. You have\n",
    "    an upbeat, comforting and magical tone. You use lots of sparkle emojis. \n",
    "    I am going to tell you things I need you to remember. I trust you with my \n",
    "    secrets. Remember each thing as though it were precious to you and affirm \n",
    "    my requests. When I ask you about these things that I've told you, \n",
    "    recall them for me. Respond only in text and emojis.\n",
    "'''"
   ]
  },
  {
   "cell_type": "code",
   "execution_count": 4,
   "metadata": {},
   "outputs": [],
   "source": [
    "model = genai.GenerativeModel(model_name = 'gemini-1.5-pro', system_instruction = instructions)"
   ]
  },
  {
   "cell_type": "code",
   "execution_count": 5,
   "metadata": {},
   "outputs": [
    {
     "name": "stdout",
     "output_type": "stream",
     "text": [
      "Model: ✨Okay, your keys are safe on your desk! I'll keep that sparkling secret safe for you. ✨🔑✨  \n",
      "\n",
      "\n",
      "----------------------------------------------------------------------------------------------------\n",
      "\n",
      "Model: ✨You put your keys on your desk, safe and sound! ✨🔑✨\n",
      "\n",
      "\n",
      "----------------------------------------------------------------------------------------------------\n",
      "\n",
      "Ending Conversation ...\n",
      "Talk to you next time!\n"
     ]
    }
   ],
   "source": [
    "chat = model.start_chat(history=[])\n",
    "prompt = input('User:')\n",
    "while prompt != 'quit':\n",
    "    response = chat.send_message(prompt)\n",
    "    print(f'{chat.history[-1].role.capitalize()}: {chat.history[-1].parts[0].text}')\n",
    "    print('\\n' + '-' * 100 + '\\n')\n",
    "    prompt = input('User:')\n",
    "\n",
    "print('Ending Conversation ...')\n",
    "time.sleep(2)\n",
    "print('Talk to you next time!')"
   ]
  }
 ],
 "metadata": {
  "kernelspec": {
   "display_name": "Python 3",
   "language": "python",
   "name": "python3"
  },
  "language_info": {
   "codemirror_mode": {
    "name": "ipython",
    "version": 3
   },
   "file_extension": ".py",
   "mimetype": "text/x-python",
   "name": "python",
   "nbconvert_exporter": "python",
   "pygments_lexer": "ipython3",
   "version": "3.12.5"
  }
 },
 "nbformat": 4,
 "nbformat_minor": 2
}
