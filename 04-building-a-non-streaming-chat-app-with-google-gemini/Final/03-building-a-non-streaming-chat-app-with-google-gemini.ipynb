{
 "cells": [
  {
   "cell_type": "markdown",
   "metadata": {},
   "source": [
    "## Creating A Non-Streaming Chat App"
   ]
  },
  {
   "cell_type": "markdown",
   "metadata": {},
   "source": [
    "### Install Dependencies in the Virtual Environment"
   ]
  },
  {
   "cell_type": "markdown",
   "metadata": {},
   "source": [
    "You must add your API Key to **.env** "
   ]
  },
  {
   "cell_type": "markdown",
   "metadata": {},
   "source": [
    "Install the google gemini api and the dotenv library"
   ]
  },
  {
   "cell_type": "code",
   "execution_count": 1,
   "metadata": {},
   "outputs": [
    {
     "name": "stdout",
     "output_type": "stream",
     "text": [
      "Note: you may need to restart the kernel to use updated packages.\n",
      "Collecting python-dotenv\n",
      "  Using cached python_dotenv-1.0.1-py3-none-any.whl.metadata (23 kB)\n",
      "Using cached python_dotenv-1.0.1-py3-none-any.whl (19 kB)\n",
      "Installing collected packages: python-dotenv\n",
      "Successfully installed python-dotenv-1.0.1\n",
      "Note: you may need to restart the kernel to use updated packages.\n"
     ]
    }
   ],
   "source": [
    "%pip install -U -q google-generativeai\n",
    "%pip install python-dotenv"
   ]
  },
  {
   "cell_type": "markdown",
   "metadata": {},
   "source": [
    "Import the necessary libraries and load the API Key"
   ]
  },
  {
   "cell_type": "code",
   "execution_count": 2,
   "metadata": {},
   "outputs": [
    {
     "name": "stderr",
     "output_type": "stream",
     "text": [
      "/Users/pinalnaik/VisualStudioCode/Lesson4_Final/.venv/lib/python3.12/site-packages/tqdm/auto.py:21: TqdmWarning: IProgress not found. Please update jupyter and ipywidgets. See https://ipywidgets.readthedocs.io/en/stable/user_install.html\n",
      "  from .autonotebook import tqdm as notebook_tqdm\n"
     ]
    }
   ],
   "source": [
    "# Importing the libraries.\n",
    "import google.generativeai as genai\n",
    "import os\n",
    "import time\n",
    "from dotenv import load_dotenv\n",
    "\n",
    "# Loading the API key and authenticating to Gemini.\n",
    "load_dotenv()\n",
    "os.environ.get('GOOGLE_API_KEY')\n",
    "\n",
    "# Configuring the API key.\n",
    "genai.configure(api_key = os.environ.get('GOOGLE_API_KEY'))"
   ]
  },
  {
   "cell_type": "code",
   "execution_count": 3,
   "metadata": {},
   "outputs": [],
   "source": [
    "model = genai.GenerativeModel('gemini-pro')"
   ]
  },
  {
   "cell_type": "code",
   "execution_count": 4,
   "metadata": {},
   "outputs": [
    {
     "name": "stdout",
     "output_type": "stream",
     "text": [
      "You have a total of five pets.\n"
     ]
    }
   ],
   "source": [
    "# response = model.generate_content('I have two dogs and three cats.')\n",
    "# print(response.text)"
   ]
  },
  {
   "cell_type": "code",
   "execution_count": 5,
   "metadata": {},
   "outputs": [
    {
     "name": "stdout",
     "output_type": "stream",
     "text": [
      "==================================================\n",
      "I do not have enough information to answer this question. The number of paws in your house depends on the number of pets you have and the number of paws each pet has.\n"
     ]
    }
   ],
   "source": [
    "# print(\"=\" *50)\n",
    "# response = model.generate_content('How many paws are in my house?')\n",
    "# print(response.text)"
   ]
  },
  {
   "cell_type": "code",
   "execution_count": 6,
   "metadata": {},
   "outputs": [],
   "source": [
    "# chat_history = [\n",
    "#  \"User: I have three cats and two dogs\",\n",
    "#  \"Model: That's great, I'll remember that\",\n",
    "#  \"User: How many paws are in my house?\"\n",
    "#]"
   ]
  },
  {
   "cell_type": "code",
   "execution_count": 7,
   "metadata": {},
   "outputs": [
    {
     "name": "stdout",
     "output_type": "stream",
     "text": [
      "If you have three cats and two dogs, you would have 3*4 + 2*4 = 20 paws in your house.\n"
     ]
    }
   ],
   "source": [
    "#response = model.generate_content(chat_history)\n",
    "#print(response.text)"
   ]
  },
  {
   "cell_type": "code",
   "execution_count": 8,
   "metadata": {},
   "outputs": [
    {
     "name": "stdout",
     "output_type": "stream",
     "text": [
      "2\n"
     ]
    }
   ],
   "source": [
    "#chat_history.append(\"Model: \" + response.text)\n",
    "#chat_history.append(\"User: How many dogs do I have?\")\n",
    "#response = model.generate_content(chat_history)\n",
    "#print(response.text)"
   ]
  },
  {
   "cell_type": "code",
   "execution_count": 9,
   "metadata": {},
   "outputs": [
    {
     "name": "stdout",
     "output_type": "stream",
     "text": [
      "If you have two dogs and three cats, then you have a total of **20 paws** in your house.\n",
      "\n",
      "* Dogs have 4 paws each, so 2 dogs have 2 * 4 = 8 paws.\n",
      "* Cats have 4 paws each, so 3 cats have 3 * 4 = 12 paws.\n",
      "\n",
      "Adding these together, you get a total of 8 + 12 = 20 paws.\n",
      "\n",
      "That's a lot of paws to keep track of! But I'm sure they're all very loved and well-cared for.\n"
     ]
    }
   ],
   "source": [
    "#chat_session = model.start_chat()\n",
    "#chat_session.send_message(\"I have two dogs and three cats.\")\n",
    "#response = chat_session.send_message(\"How many paws are in my house?\")\n",
    "#print(response.text)"
   ]
  },
  {
   "cell_type": "code",
   "execution_count": 10,
   "metadata": {},
   "outputs": [
    {
     "name": "stdout",
     "output_type": "stream",
     "text": [
      "[parts {\n",
      "  text: \"I have two dogs and three cats.\"\n",
      "}\n",
      "role: \"user\"\n",
      ", parts {\n",
      "  text: \"Congratulations on having such a wonderful and diverse pet family! It sounds like you have a lot of love and companionship in your home. Each animal brings its unique personality and charms to the household, and I\\'m sure they all enjoy each other\\'s company as well. Do you have any funny or heartwarming stories about your fur babies?\"\n",
      "}\n",
      "role: \"model\"\n",
      ", parts {\n",
      "  text: \"How many paws are in my house?\"\n",
      "}\n",
      "role: \"user\"\n",
      ", parts {\n",
      "  text: \"If you have two dogs and three cats, then you have a total of **20 paws** in your house.\\n\\n* Dogs have 4 paws each, so 2 dogs have 2 * 4 = 8 paws.\\n* Cats have 4 paws each, so 3 cats have 3 * 4 = 12 paws.\\n\\nAdding these together, you get a total of 8 + 12 = 20 paws.\\n\\nThat\\'s a lot of paws to keep track of! But I\\'m sure they\\'re all very loved and well-cared for.\"\n",
      "}\n",
      "role: \"model\"\n",
      "]\n"
     ]
    }
   ],
   "source": [
    "#print(chat_session.history)"
   ]
  },
  {
   "cell_type": "code",
   "execution_count": 11,
   "metadata": {},
   "outputs": [],
   "source": [
    "\"\"\" Multi-line comment\n",
    "chat_session = model.start_chat(\n",
    "  history=[\n",
    "    {\n",
    "      \"role\": \"user\",\n",
    "      \"parts\": [\n",
    "        \"My name is Janet and I am a Gemini\",\n",
    "      ],\n",
    "    },\n",
    "    {\n",
    "      \"role\": \"model\",\n",
    "      \"parts\": [\n",
    "        \"That's great to know, Janet! Geminis are known for their curiosity, adaptability, and communication skills. \\n\\nDo you want to tell me more about yourself? I'd love to hear about your interests, hobbies, or anything else you'd like to share! 😊 \\n\",\n",
    "      ],\n",
    "    },\n",
    "    {\n",
    "      \"role\": \"user\",\n",
    "      \"parts\": [\n",
    "        \"I have worked at Initech for 25 years\",\n",
    "      ],\n",
    "    },\n",
    "    {\n",
    "      \"role\": \"model\",\n",
    "      \"parts\": [\n",
    "        \"Wow, 25 years at Initech! That's quite a commitment. I'm guessing you've seen a lot of changes over the years. \\n\\nTell me, what's it like working there? Is it a good place to be? 😄 \\n\",\n",
    "      ],\n",
    "    },\n",
    "  ]\n",
    ")\n",
    "\"\"\""
   ]
  },
  {
   "cell_type": "code",
   "execution_count": 12,
   "metadata": {},
   "outputs": [
    {
     "name": "stdout",
     "output_type": "stream",
     "text": [
      "Your name is Janet. 😊 Is there anything else I can help you with today?\n"
     ]
    }
   ],
   "source": [
    "#response = chat_session.send_message(\"What's my name again?\")\n",
    "#print(response.text)"
   ]
  },
  {
   "cell_type": "code",
   "execution_count": 13,
   "metadata": {},
   "outputs": [
    {
     "name": "stdout",
     "output_type": "stream",
     "text": [
      "text: \"Your name is Janet. 😊 Is there anything else I can help you with today?\"\n",
      "\n"
     ]
    }
   ],
   "source": [
    "#print(chat_session.history[-1].parts[0])"
   ]
  },
  {
   "cell_type": "code",
   "execution_count": 14,
   "metadata": {},
   "outputs": [
    {
     "name": "stdout",
     "output_type": "stream",
     "text": [
      "Model\n"
     ]
    }
   ],
   "source": [
    "#print(chat_session.history[-1].role.capitalize())"
   ]
  },
  {
   "cell_type": "code",
   "execution_count": 15,
   "metadata": {},
   "outputs": [
    {
     "name": "stdout",
     "output_type": "stream",
     "text": [
      "Model: Not much, just hanging out and answering questions. How are you doing today?\n",
      "\n",
      "----------------------------------------------------------------------------------------------------\n",
      "\n",
      "Model: You called me \"buttercup.\" It's a term of endearment, often used to address someone who is sweet or attractive.\n",
      "\n",
      "----------------------------------------------------------------------------------------------------\n",
      "\n",
      "Ending Conversation ...\n",
      "Talk to you next time!\n"
     ]
    }
   ],
   "source": [
    "chat = model.start_chat(history=[])\n",
    "prompt = input('User:') \n",
    "\n",
    "while prompt != 'quit': \n",
    "    response = chat.send_message(prompt)\n",
    "    print(f'{chat.history[-1].role.capitalize()}: {chat.history[-1].parts[0].text}')\n",
    "    print('\\n' + '-' * 100 + '\\n')\n",
    "    prompt = input('User:')\n",
    "\n",
    "print('Ending Conversation ...')\n",
    "time.sleep(2)\n",
    "print('Talk to you next time!')"
   ]
  }
 ],
 "metadata": {
  "kernelspec": {
   "display_name": "Python 3",
   "language": "python",
   "name": "python3"
  },
  "language_info": {
   "codemirror_mode": {
    "name": "ipython",
    "version": 3
   },
   "file_extension": ".py",
   "mimetype": "text/x-python",
   "name": "python",
   "nbconvert_exporter": "python",
   "pygments_lexer": "ipython3",
   "version": "3.12.5"
  }
 },
 "nbformat": 4,
 "nbformat_minor": 2
}
