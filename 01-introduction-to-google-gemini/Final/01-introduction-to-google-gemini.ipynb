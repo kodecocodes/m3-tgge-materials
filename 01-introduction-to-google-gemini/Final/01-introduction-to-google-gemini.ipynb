{
 "cells": [
  {
   "cell_type": "markdown",
   "metadata": {
    "id": "Jqq_fTu5QPsq"
   },
   "source": [
    "## Getting Started\n",
    "\n",
    "This example demonstrates how to use Colab to interact with Gemini using Python\n",
    "In order for it to work, you need to have your API key stored as a secret named GOOGLE_API_KEY. You'll also need to enable Notebook access.\n"
   ]
  },
  {
   "cell_type": "markdown",
   "metadata": {
    "id": "mZXXF2nvQrxx"
   },
   "source": [
    "Install the API"
   ]
  },
  {
   "cell_type": "code",
   "execution_count": null,
   "metadata": {
    "id": "mK8-_tF_HOcU"
   },
   "outputs": [],
   "source": [
    "!pip install -q -U google-generativeai"
   ]
  },
  {
   "cell_type": "markdown",
   "metadata": {
    "id": "sTm6qjTJQvBo"
   },
   "source": [
    "Import the necessary libraries and create a function to transform the text to markdown to format the response."
   ]
  },
  {
   "cell_type": "code",
   "execution_count": null,
   "metadata": {
    "id": "nawKO0Y4KWB1"
   },
   "outputs": [],
   "source": [
    "import pathlib\n",
    "import textwrap\n",
    "\n",
    "import google.generativeai as genai\n",
    "\n",
    "from IPython.display import display\n",
    "from IPython.display import Markdown\n",
    "\n",
    "\n",
    "def to_markdown(text):\n",
    "    text = text.replace('•', '  *')\n",
    "    return Markdown(textwrap.indent(text, '> ', predicate=lambda _: True))"
   ]
  },
  {
   "cell_type": "markdown",
   "metadata": {
    "id": "5SRYCFZDQ94d"
   },
   "source": [
    "Import the user data which contains the secret API key"
   ]
  },
  {
   "cell_type": "code",
   "execution_count": null,
   "metadata": {
    "id": "OTuDHWADG5Fo"
   },
   "outputs": [],
   "source": [
    "from google.colab import userdata"
   ]
  },
  {
   "cell_type": "markdown",
   "metadata": {
    "id": "IVMvoebURDuK"
   },
   "source": [
    "Load the API Key from the userdata"
   ]
  },
  {
   "cell_type": "code",
   "execution_count": null,
   "metadata": {
    "id": "K9bmFcoVHTH0"
   },
   "outputs": [],
   "source": [
    "GOOGLE_API_KEY=userdata.get('GOOGLE_API_KEY')\n",
    "genai.configure(api_key=GOOGLE_API_KEY)"
   ]
  },
  {
   "cell_type": "markdown",
   "metadata": {
    "id": "ES8uOa0cRIk1"
   },
   "source": [
    "Select the model"
   ]
  },
  {
   "cell_type": "code",
   "execution_count": null,
   "metadata": {
    "id": "4dTzj8mVHW2W"
   },
   "outputs": [],
   "source": [
    "model = genai.GenerativeModel('gemini-1.5-pro')"
   ]
  },
  {
   "cell_type": "markdown",
   "metadata": {
    "id": "RVZhpWrVRKGx"
   },
   "source": [
    "Author a prompt and send it to Gemini, retrieve the response"
   ]
  },
  {
   "cell_type": "code",
   "execution_count": null,
   "metadata": {
    "id": "CmoRZT8YLmy7"
   },
   "outputs": [],
   "source": [
    "response = model.generate_content(\"Hello Gemini! It's lovely to meet you! How are you today?\")"
   ]
  },
  {
   "cell_type": "markdown",
   "metadata": {
    "id": "VbDz30b0RQbf"
   },
   "source": [
    "Transform the response using to_markdown"
   ]
  },
  {
   "cell_type": "code",
   "execution_count": null,
   "metadata": {
    "colab": {
     "base_uri": "https://localhost:8080/",
     "height": 80
    },
    "executionInfo": {
     "elapsed": 161,
     "status": "ok",
     "timestamp": 1723006436326,
     "user": {
      "displayName": "Jennifer Bailey",
      "userId": "09921321434946489803"
     },
     "user_tz": 360
    },
    "id": "82OL_9AGL11L",
    "outputId": "7e443974-81e8-4cc7-c1f4-7c831483f2bf"
   },
   "outputs": [
    {
     "data": {
      "text/markdown": [
       "> It's lovely to meet you too!  As a large language model, I don't have feelings like humans do, but I'm here and ready to assist you. 😊 What can I help you with today? \n"
      ],
      "text/plain": [
       "<IPython.core.display.Markdown object>"
      ]
     },
     "execution_count": 25,
     "metadata": {},
     "output_type": "execute_result"
    }
   ],
   "source": [
    "to_markdown(response.text)"
   ]
  },
  {
   "cell_type": "markdown",
   "metadata": {
    "id": "rq7xpkYdRUmu"
   },
   "source": [
    "Print the text of the response"
   ]
  },
  {
   "cell_type": "code",
   "execution_count": null,
   "metadata": {
    "colab": {
     "base_uri": "https://localhost:8080/"
    },
    "executionInfo": {
     "elapsed": 183,
     "status": "ok",
     "timestamp": 1723007858805,
     "user": {
      "displayName": "Jennifer Bailey",
      "userId": "09921321434946489803"
     },
     "user_tz": 360
    },
    "id": "vxTsWaioL91J",
    "outputId": "15f5268f-b7a8-45cc-8bed-7db99d28edc9"
   },
   "outputs": [
    {
     "name": "stdout",
     "output_type": "stream",
     "text": [
      "It's lovely to meet you too!  As a large language model, I don't have feelings like humans do, but I'm here and ready to assist you. 😊 What can I help you with today? \n",
      "\n"
     ]
    }
   ],
   "source": [
    "print(response.text)"
   ]
  },
  {
   "cell_type": "markdown",
   "metadata": {
    "id": "pPkheUEVLW-Z"
   },
   "source": []
  }
 ],
 "metadata": {
  "colab": {
   "authorship_tag": "ABX9TyN0JsK73CpQEjUxA9covlsW",
   "provenance": []
  },
  "kernelspec": {
   "display_name": "Python 3 (ipykernel)",
   "language": "python",
   "name": "python3"
  },
  "language_info": {
   "codemirror_mode": {
    "name": "ipython",
    "version": 3
   },
   "file_extension": ".py",
   "mimetype": "text/x-python",
   "name": "python",
   "nbconvert_exporter": "python",
   "pygments_lexer": "ipython3",
   "version": "3.12.4"
  }
 },
 "nbformat": 4,
 "nbformat_minor": 4
}
